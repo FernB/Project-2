{
 "cells": [
  {
   "cell_type": "markdown",
   "id": "f8cf392b",
   "metadata": {},
   "source": [
    "## Web Scraping from data source"
   ]
  },
  {
   "cell_type": "code",
   "execution_count": null,
   "id": "1a3241ed",
   "metadata": {},
   "outputs": [],
   "source": [
    "# dependencies\n",
    "from splinter import Browser\n",
    "from webdriver_manager.chrome import ChromeDriverManager\n",
    "import pandas as pd"
   ]
  },
  {
   "cell_type": "code",
   "execution_count": null,
   "id": "4aae0bff",
   "metadata": {},
   "outputs": [],
   "source": [
    "# report generator url\n",
    "url = \"http://www9.health.gov.au/cda/source/rpt_2_sel.cfm\""
   ]
  },
  {
   "cell_type": "code",
   "execution_count": null,
   "id": "51d73aac",
   "metadata": {},
   "outputs": [],
   "source": [
    "# use splinter to navigate to page\n",
    "executable_path = {'executable_path': ChromeDriverManager().install()}\n",
    "browser = Browser('chrome', **executable_path, headless=False)\n",
    "browser.visit(url)"
   ]
  },
  {
   "cell_type": "code",
   "execution_count": null,
   "id": "a8554b47",
   "metadata": {},
   "outputs": [],
   "source": [
    "# set query ranges and empty lists for data return\n",
    "queryyears = [2015,2016,2017,2018,2019,2020]\n",
    "diseaselist =[]\n",
    "diseasedflist=[]\n",
    "diseasegroupings = []\n",
    "eachgrouplist = []\n",
    "summarytable = pd.DataFrame(columns = [\"Disease_Name\",\"Infection_Rate\",\"Location\",\"Disease_Group\",\"Year\"])"
   ]
  },
  {
   "cell_type": "code",
   "execution_count": null,
   "id": "0f1fdfc1",
   "metadata": {},
   "outputs": [],
   "source": [
    "# loop through years for field options\n",
    "for year in queryyears:\n",
    "    \n",
    "    # use splinter to select and submit form based on field options\n",
    "    browser.find_by_id('report_option_5').first.click()\n",
    "    browser.find_by_id('sel_year').first.select(str(year))\n",
    "    browser.find_by_id('CTIME1').click() \n",
    "    \n",
    "    #get html table data into dataframe using pandas\n",
    "    tables = pd.read_html(browser.html)\n",
    "    df = tables[0]\n",
    "    dropped = df.dropna(axis=0)\n",
    "    \n",
    "    #form initial dataframes on first year\n",
    "    if year == 2015:\n",
    "        #get list of disease groups\n",
    "        diseasegroups = dropped.sort_values(by=['ACT'],ascending=False)[:8]\n",
    "        diseasegroups = diseasegroups[\"ACT\"].sort_index()\n",
    "        indexlist = diseasegroups.index\n",
    "        diseaselist = diseasegroups.tolist()\n",
    "        diseasedflist = diseasegroups.tolist()        \n",
    "\n",
    "        # loop through dataframe and slice based on disease groupings\n",
    "        for i in range(len(indexlist)):\n",
    "            if i !=7:\n",
    "                dlist = dropped[indexlist[i]:indexlist[i+1]-1][\"Unnamed: 0\"]\n",
    "            else:\n",
    "                dlist = dropped[indexlist[i]:][\"Unnamed: 0\"]\n",
    "            \n",
    "            # get group and diseases paired for later database load\n",
    "            dlist = dlist.values.tolist()\n",
    "            for d in dlist:\n",
    "                diseasegroupings.append(diseaselist[i])\n",
    "                eachgrouplist.append(d)\n",
    "\n",
    "            \n",
    "        \n",
    "        #slice and append data to dataframe per disease grouping\n",
    "        for i in range(len(diseaselist)):\n",
    "            if i !=7:\n",
    "                item = dropped[indexlist[i]:indexlist[i+1]-1]\n",
    "            else:\n",
    "                item = dropped[indexlist[i]:]\n",
    "            \n",
    "            locationlist = [\"ACT\",\"NSW\",\"NT\",\"QLD\",\"SA\",\"TAS\",\"VIC\",\"WA\",\"Aust\",\"Last 5yearsmean\"]\n",
    "            for location in locationlist:\n",
    "                state = item[[\"Unnamed: 0\",location]]\n",
    "                state[\"Location\"] = [location for x in range(len(state))]\n",
    "                state[\"Disease_Group\"] = [diseaselist[i] for x in range(len(state))]\n",
    "                state[\"Year\"] = [year for x in range(len(state))]\n",
    "                state.rename(columns = {'Unnamed: 0':\"Disease_Name\", location:\"Infection_Rate\"}, inplace = True)\n",
    "                summarytable = summarytable.append(state, ignore_index=True)\n",
    "               \n",
    "\n",
    "    #loop through rest of years to append to dataframes\n",
    "    else:\n",
    "        \n",
    "        \n",
    "        for i in range(len(diseaselist)):\n",
    "            if i !=7:\n",
    "                item = dropped[indexlist[i]:indexlist[i+1]-1]\n",
    "            else:\n",
    "                item = dropped[indexlist[i]:]\n",
    "                \n",
    "            locationlist = [\"ACT\",\"NSW\",\"NT\",\"QLD\",\"SA\",\"TAS\",\"VIC\",\"WA\",\"Aust\",\"Last 5yearsmean\"]\n",
    "            for location in locationlist:\n",
    "                state = item[[\"Unnamed: 0\",location]]\n",
    "                state[\"Location\"] = [location for x in range(len(state))]\n",
    "                state[\"Disease_Group\"] = [diseaselist[i] for x in range(len(state))]\n",
    "                state[\"Year\"] = [year for x in range(len(state))]\n",
    "                state.rename(columns = {'Unnamed: 0':\"Disease_Name\", location:\"Infection_Rate\"}, inplace = True)\n",
    "                summarytable = summarytable.append(state, ignore_index=True)\n",
    "\n",
    "    \n",
    "    # close year report so loop can run another report\n",
    "    browser.find_by_id('close').click() \n",
    "\n",
    "        \n",
    "        "
   ]
  },
  {
   "cell_type": "code",
   "execution_count": null,
   "id": "8dcdfeaf",
   "metadata": {},
   "outputs": [],
   "source": [
    "summarytable"
   ]
  },
  {
   "cell_type": "code",
   "execution_count": null,
   "id": "e54ad6e6",
   "metadata": {},
   "outputs": [],
   "source": [
    "browser.quit()"
   ]
  },
  {
   "cell_type": "code",
   "execution_count": null,
   "id": "c7cfd586",
   "metadata": {},
   "outputs": [],
   "source": [
    "## create sqlite database\n",
    "\n",
    "from sqlalchemy import create_engine\n",
    "\n",
    "path = f\"sqlite:///diseases.sqlite\"\n",
    "engine = create_engine(path)\n",
    "\n",
    "connection = engine.connect()\n",
    "\n"
   ]
  },
  {
   "cell_type": "code",
   "execution_count": null,
   "id": "88eb5063",
   "metadata": {},
   "outputs": [],
   "source": [
    "#add table to database\n",
    "summarytable.to_sql(\"DiseaseSummary\",connection, if_exists='replace',index=True)"
   ]
  },
  {
   "cell_type": "code",
   "execution_count": null,
   "id": "b32e9885",
   "metadata": {},
   "outputs": [],
   "source": [
    "## add primary key \n",
    "\n",
    "connection.execute(\"PRAGMA foreign_keys=off;\")\n",
    "\n",
    "connection.execute(\"BEGIN TRANSACTION;\")\n",
    "\n",
    "connection.execute(\"ALTER TABLE DiseaseSummary RENAME TO old_table;\")\n",
    "\n",
    "connection.execute(\"CREATE TABLE DiseaseSummary (id INTEGER NOT NULL PRIMARY KEY, 'Disease_Name' TEXT NOT NULL, 'Infection_Rate' REAL NOT NULL, 'Location' TEXT NOT NULL, 'Disease_Group' TEXT NOT NULL, Year INTEGER NOT NULL);\")\n",
    "\n",
    "connection.execute(\"INSERT INTO DiseaseSummary SELECT * FROM old_table;\")\n",
    "\n",
    "connection.execute(\"DROP TABLE old_table;\")\n",
    "\n",
    "connection.execute(\"PRAGMA foreign_keys=on;\")"
   ]
  },
  {
   "cell_type": "code",
   "execution_count": null,
   "id": "bf8059da",
   "metadata": {},
   "outputs": [],
   "source": []
  },
  {
   "cell_type": "code",
   "execution_count": null,
   "id": "67aa8822",
   "metadata": {},
   "outputs": [],
   "source": [
    "# connection.execute(\"DROP TABLE Bloodbornediseases;\")"
   ]
  },
  {
   "cell_type": "code",
   "execution_count": null,
   "id": "7bdd3016",
   "metadata": {},
   "outputs": [],
   "source": []
  }
 ],
 "metadata": {
  "kernelspec": {
   "display_name": "Python 3",
   "language": "python",
   "name": "python3"
  },
  "language_info": {
   "codemirror_mode": {
    "name": "ipython",
    "version": 3
   },
   "file_extension": ".py",
   "mimetype": "text/x-python",
   "name": "python",
   "nbconvert_exporter": "python",
   "pygments_lexer": "ipython3",
   "version": "3.8.5"
  }
 },
 "nbformat": 4,
 "nbformat_minor": 5
}
