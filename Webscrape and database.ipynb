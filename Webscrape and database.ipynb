{
 "cells": [
  {
   "cell_type": "markdown",
   "id": "f8cf392b",
   "metadata": {},
   "source": [
    "## Web Scraping from data source"
   ]
  },
  {
   "cell_type": "code",
   "execution_count": 1,
   "id": "1a3241ed",
   "metadata": {},
   "outputs": [],
   "source": [
    "# dependencies\n",
    "from splinter import Browser\n",
    "from webdriver_manager.chrome import ChromeDriverManager\n",
    "import pandas as pd"
   ]
  },
  {
   "cell_type": "code",
   "execution_count": 2,
   "id": "4aae0bff",
   "metadata": {},
   "outputs": [],
   "source": [
    "# report generator url\n",
    "url = \"http://www9.health.gov.au/cda/source/rpt_2_sel.cfm\""
   ]
  },
  {
   "cell_type": "code",
   "execution_count": 3,
   "id": "51d73aac",
   "metadata": {},
   "outputs": [
    {
     "name": "stderr",
     "output_type": "stream",
     "text": [
      "\n",
      "\n",
      "====== WebDriver manager ======\n",
      "Current google-chrome version is 91.0.4472\n",
      "Get LATEST driver version for 91.0.4472\n",
      "Driver [C:\\Users\\fernb\\.wdm\\drivers\\chromedriver\\win32\\91.0.4472.101\\chromedriver.exe] found in cache\n"
     ]
    }
   ],
   "source": [
    "# use splinter to navigate to page\n",
    "executable_path = {'executable_path': ChromeDriverManager().install()}\n",
    "browser = Browser('chrome', **executable_path, headless=False)\n",
    "browser.visit(url)"
   ]
  },
  {
   "cell_type": "code",
   "execution_count": 4,
   "id": "a8554b47",
   "metadata": {},
   "outputs": [],
   "source": [
    "# set query ranges and empty lists for data return\n",
    "queryyears = [2015,2016,2017,2018,2019,2020]\n",
    "dieaselist =[]\n",
    "diseasedflist=[]\n",
    "diseasegroupings = []\n",
    "eachgrouplist = []"
   ]
  },
  {
   "cell_type": "code",
   "execution_count": 5,
   "id": "0f1fdfc1",
   "metadata": {},
   "outputs": [
    {
     "name": "stdout",
     "output_type": "stream",
     "text": [
      "first\n"
     ]
    }
   ],
   "source": [
    "# loop through years for field options\n",
    "for year in queryyears:\n",
    "    \n",
    "    # use splinter to select and submit form based on field options\n",
    "    browser.find_by_id('report_option_5').first.click()\n",
    "    browser.find_by_id('sel_year').first.select(str(year))\n",
    "    browser.find_by_id('CTIME1').click() \n",
    "    \n",
    "    #get html table data into dataframe using pandas\n",
    "    tables = pd.read_html(browser.html)\n",
    "    df = tables[0]\n",
    "    dropped = df.dropna(axis=0)\n",
    "    \n",
    "    #form initial dataframes on first year\n",
    "    if year == 2015:\n",
    "        print(\"first\")\n",
    "        #get list of disease groups\n",
    "        diseasegroups = dropped.sort_values(by=['ACT'],ascending=False)[:8]\n",
    "        diseasegroups = diseasegroups[\"ACT\"].sort_index()\n",
    "        indexlist = diseasegroups.index\n",
    "        diseaselist = diseasegroups.tolist()\n",
    "        diseasedflist = diseasegroups.tolist()        \n",
    "\n",
    "        # loop through dataframe and slice based on disease groupings\n",
    "        for i in range(len(indexlist)):\n",
    "            if i !=7:\n",
    "                dlist = dropped[indexlist[i]:indexlist[i+1]-1][\"Unnamed: 0\"]\n",
    "            else:\n",
    "                dlist = dropped[indexlist[i]:][\"Unnamed: 0\"]\n",
    "            \n",
    "            # get group and diseases paired for later database load\n",
    "            dlist = dlist.values.tolist()\n",
    "            for d in dlist:\n",
    "                diseasegroupings.append(diseaselist[i])\n",
    "                eachgrouplist.append(d)\n",
    "            dlist.append('Location')\n",
    "            dlist.append('Year')\n",
    "            diseasedflist[i] = pd.DataFrame(columns = dlist)\n",
    "        \n",
    "        #slice and append data to dataframe per disease grouping\n",
    "        for i in range(len(diseasedflist)):\n",
    "            if i !=7:\n",
    "                item = dropped[indexlist[i]:indexlist[i+1]-1]\n",
    "            else:\n",
    "                item = dropped[indexlist[i]:]\n",
    "                \n",
    "            item.set_index('Unnamed: 0', inplace=True)\n",
    "            item = item[[\"ACT\",\"NSW\",\"NT\",\"QLD\",\"SA\",\"TAS\",\"VIC\",\"WA\",\"Aust\",\"Last 5yearsmean\"]].T\n",
    "            item[\"Year\"] = [year for x in range(10)]\n",
    "            item.reset_index(inplace =True)\n",
    "            item.rename(columns = {'index':\"Location\"}, inplace = True)\n",
    "            diseasedflist[i]=diseasedflist[i].append(item, ignore_index=True)  \n",
    "        \n",
    "\n",
    "    #loop through rest of years to append to dataframes\n",
    "    else:\n",
    "        \n",
    "        \n",
    "        for i in range(len(diseasedflist)):\n",
    "            if i !=7:\n",
    "                item = dropped[indexlist[i]:indexlist[i+1]-1]\n",
    "            else:\n",
    "                item = dropped[indexlist[i]:]\n",
    "                \n",
    "            item.set_index('Unnamed: 0', inplace=True)\n",
    "            item = item[[\"ACT\",\"NSW\",\"NT\",\"QLD\",\"SA\",\"TAS\",\"VIC\",\"WA\",\"Aust\",\"Last 5yearsmean\"]].T\n",
    "            item[\"Year\"] = [year for x in range(10)]\n",
    "            item.reset_index(inplace =True)\n",
    "            item.rename(columns = {'index':\"Location\"}, inplace = True)\n",
    "            diseasedflist[i]=diseasedflist[i].append(item, ignore_index=True)\n",
    "    \n",
    "    # close year report so loop can run another report\n",
    "    browser.find_by_id('close').click() \n",
    "\n",
    "        \n",
    "        "
   ]
  },
  {
   "cell_type": "code",
   "execution_count": 9,
   "id": "b9294a59",
   "metadata": {},
   "outputs": [],
   "source": [
    "## create dictionary of disease groupings\n",
    "\n",
    "dic = {\"Disease Group\":diseasegroupings,\"Disease\":eachgrouplist}\n",
    "\n",
    "groupeddf = pd.DataFrame.from_dict(dic)"
   ]
  },
  {
   "cell_type": "code",
   "execution_count": 10,
   "id": "e54ad6e6",
   "metadata": {},
   "outputs": [],
   "source": [
    "browser.quit()"
   ]
  },
  {
   "cell_type": "code",
   "execution_count": 11,
   "id": "c7cfd586",
   "metadata": {},
   "outputs": [],
   "source": [
    "## create sqlite database\n",
    "\n",
    "from sqlalchemy import create_engine\n",
    "\n",
    "path = f\"sqlite:///diseases.sqlite\"\n",
    "engine = create_engine(path)\n",
    "\n",
    "connection = engine.connect()\n",
    "\n"
   ]
  },
  {
   "cell_type": "code",
   "execution_count": 13,
   "id": "e1b4e1a8",
   "metadata": {},
   "outputs": [],
   "source": [
    "# add each dataframe into database \n",
    "for i in range(len(dieaselist)):\n",
    "    diseasedflist[i].to_sql(diseaselist[i],connection,if_exists='replace',index=False)\n",
    "\n",
    "\n"
   ]
  },
  {
   "cell_type": "code",
   "execution_count": 14,
   "id": "d425d792",
   "metadata": {},
   "outputs": [],
   "source": [
    "## add disease groups to database\n",
    "groupeddf.to_sql(\"Disease Groups\",connection,if_exists='replace',index=False)"
   ]
  },
  {
   "cell_type": "code",
   "execution_count": null,
   "id": "b32e9885",
   "metadata": {},
   "outputs": [],
   "source": []
  }
 ],
 "metadata": {
  "kernelspec": {
   "display_name": "Python 3",
   "language": "python",
   "name": "python3"
  },
  "language_info": {
   "codemirror_mode": {
    "name": "ipython",
    "version": 3
   },
   "file_extension": ".py",
   "mimetype": "text/x-python",
   "name": "python",
   "nbconvert_exporter": "python",
   "pygments_lexer": "ipython3",
   "version": "3.8.5"
  }
 },
 "nbformat": 4,
 "nbformat_minor": 5
}
